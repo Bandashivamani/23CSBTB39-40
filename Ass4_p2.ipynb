{
  "nbformat": 4,
  "nbformat_minor": 0,
  "metadata": {
    "colab": {
      "provenance": [],
      "authorship_tag": "ABX9TyMi0AQ14Ax8NC58JKkW18LA",
      "include_colab_link": true
    },
    "kernelspec": {
      "name": "python3",
      "display_name": "Python 3"
    },
    "language_info": {
      "name": "python"
    }
  },
  "cells": [
    {
      "cell_type": "markdown",
      "metadata": {
        "id": "view-in-github",
        "colab_type": "text"
      },
      "source": [
        "<a href=\"https://colab.research.google.com/github/Bandashivamani/23CSBTB39-40/blob/main/Ass4_p2.ipynb\" target=\"_parent\"><img src=\"https://colab.research.google.com/assets/colab-badge.svg\" alt=\"Open In Colab\"/></a>"
      ]
    },
    {
      "cell_type": "code",
      "execution_count": 1,
      "metadata": {
        "colab": {
          "base_uri": "https://localhost:8080/"
        },
        "id": "VtFtJzKCHUCr",
        "outputId": "50684719-e142-42d3-c9ae-7511a0e3ac2f"
      },
      "outputs": [
        {
          "output_type": "stream",
          "name": "stdout",
          "text": [
            "Intercept: -0.06794691315874934\n",
            "Slope: 3.0609213283090337\n",
            "CDF of the predictions: [0.53729502 0.09829798 0.13460013 0.2299277  0.46541189 0.43788433\n",
            " 0.81790635 0.41219429 0.91038811 0.92470695 0.1096733  0.08591265\n",
            " 0.57257258 0.89346935 0.16548413 0.93061808 0.74084035 0.3538794\n",
            " 0.12644791 0.91136992]\n"
          ]
        }
      ],
      "source": [
        "import numpy as np\n",
        "from sklearn.model_selection import train_test_split\n",
        "X = np.random.rand(100, 1)\n",
        "Y = 3 * X.squeeze() + np.random.randn(100)\n",
        "\n",
        "X_train, X_test, Y_train, Y_test = train_test_split(X, Y, test_size=0.2, random_state=42)\n",
        "from sklearn.linear_model import LinearRegression\n",
        "\n",
        "model = LinearRegression()\n",
        "model.fit(X_train, Y_train)\n",
        "import scipy.stats as stats\n",
        "intercept = model.intercept_\n",
        "slope = model.coef_[0]\n",
        "Y_pred = model.predict(X_test)\n",
        "cdf_values = stats.norm.cdf(Y_pred, np.mean(Y_pred), np.std(Y_pred))\n",
        "print(f\"Intercept: {intercept}\")\n",
        "print(f\"Slope: {slope}\")\n",
        "print(f\"CDF of the predictions: {cdf_values}\")"
      ]
    }
  ]
}